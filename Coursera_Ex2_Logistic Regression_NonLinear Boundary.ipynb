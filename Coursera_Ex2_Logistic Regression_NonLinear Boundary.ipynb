{
 "cells": [
  {
   "cell_type": "code",
   "execution_count": 4,
   "id": "07d68908",
   "metadata": {},
   "outputs": [],
   "source": [
    "import torch\n",
    "from numpy import genfromtxt\n",
    "data = genfromtxt('C:/HKU/Self learning/Machine Learning/ex2/ex2data2.txt', delimiter=',')\n",
    "data = torch.from_numpy(data)\n",
    "data = torch.chunk(data,3,1)"
   ]
  },
  {
   "cell_type": "code",
   "execution_count": 5,
   "id": "e5261146",
   "metadata": {},
   "outputs": [],
   "source": [
    "def normal(data):\n",
    "    return (data-torch.mean(data))/torch.pow(torch.var(data),0.5)\n",
    "new1 = normal(data[0])\n",
    "new2 = normal(data[1])\n",
    "new3 = normal(torch.mul(data[0],data[1]))\n",
    "new4 = normal(torch.pow(data[0],2))\n",
    "new5 = normal(torch.pow(data[1],2))\n",
    "new6 = normal(torch.pow(data[0],3))\n",
    "new7 = normal(torch.pow(data[1],3))"
   ]
  },
  {
   "cell_type": "code",
   "execution_count": 20,
   "id": "3855c6a5",
   "metadata": {},
   "outputs": [
    {
     "name": "stdout",
     "output_type": "stream",
     "text": [
      "torch.Size([118, 7])\n"
     ]
    }
   ],
   "source": [
    "inputs = torch.cat((new1,new2,new3,new4,new5,new6,new7),1).float()\n",
    "targets = data[2].float()\n",
    "print(inputs.shape)\n",
    "from torch.utils.data import TensorDataset\n",
    "train_ds = TensorDataset(inputs,targets)\n",
    "\n",
    "from torch.utils.data import DataLoader\n",
    "# Define data loader\n",
    "batch_size = 118\n",
    "train_dl = DataLoader(train_ds, batch_size, shuffle=True)\n",
    "val_dl = DataLoader(train_ds, batch_size)"
   ]
  },
  {
   "cell_type": "code",
   "execution_count": 21,
   "id": "807f3668",
   "metadata": {},
   "outputs": [],
   "source": [
    "import torch.nn as nn\n",
    "import torch.nn.functional as F\n",
    "class Mymodel(nn.Module):\n",
    "    def __init__(self,input_size,num_classes):\n",
    "        super().__init__()\n",
    "        self.linear = nn.Linear(input_size,num_classes)\n",
    "    def train_step(self,batch):\n",
    "        inputs,targets = batch\n",
    "        outputs = self.linear(inputs)\n",
    "        targets = targets.squeeze(1).long()\n",
    "        #sigmoid = 1/(1+torch.exp(-outputs*0.01))\n",
    "        #loss = torch.sum(-torch.mul(targets, torch.log(sigmoid))-torch.mul(1-targets,torch.log(1-sigmoid)))\n",
    "        loss = F.cross_entropy(outputs, targets) # Calculate loss\n",
    "        return loss\n",
    "    def validation_step(self, batch):\n",
    "        inputs, targets = batch \n",
    "        out = self.linear(inputs)              # Generate predictions\n",
    "        targets = targets.squeeze(1).long()\n",
    "        loss = F.cross_entropy(out, targets)   # Calculate loss\n",
    "        #acc = accuracy(out, targets)           # Calculate accuracy\n",
    "        _, preds = torch.max(out,dim=1)\n",
    "        acc = torch.sum(preds==targets)/len(preds)\n",
    "        return {'val_loss': loss, 'val_acc': acc}"
   ]
  },
  {
   "cell_type": "code",
   "execution_count": 25,
   "id": "f8ac04bd",
   "metadata": {},
   "outputs": [],
   "source": [
    "def fit(epochs,train_dl,val_dl,model,opt):\n",
    "    history = []\n",
    "    for epoch in range(epochs):\n",
    "        for batch in train_dl:\n",
    "            loss = model.train_step(batch)     \n",
    "            loss.backward()\n",
    "            opt.step()\n",
    "            opt.zero_grad()\n",
    "            break\n",
    "        if (epoch+1) % 10 == 0:\n",
    "            for batch in val_dl:\n",
    "                result = model.validation_step(batch)\n",
    "                history.append(result)\n",
    "    return history"
   ]
  },
  {
   "cell_type": "code",
   "execution_count": 33,
   "id": "522ccf92",
   "metadata": {},
   "outputs": [
    {
     "data": {
      "text/plain": [
       "[Parameter containing:\n",
       " tensor([[-0.2007, -0.2676, -0.3081, -0.0636, -0.2600, -0.3201,  0.1928],\n",
       "         [-0.1256, -0.3032, -0.3536, -0.0061,  0.1965, -0.2082,  0.1907]],\n",
       "        requires_grad=True),\n",
       " Parameter containing:\n",
       " tensor([-0.2303,  0.0104], requires_grad=True)]"
      ]
     },
     "execution_count": 33,
     "metadata": {},
     "output_type": "execute_result"
    }
   ],
   "source": [
    "model = Mymodel(7,2)\n",
    "opt = torch.optim.SGD(model.parameters(), lr = 0.01)\n",
    "list(model.parameters())"
   ]
  },
  {
   "cell_type": "code",
   "execution_count": 34,
   "id": "d2285130",
   "metadata": {},
   "outputs": [
    {
     "name": "stdout",
     "output_type": "stream",
     "text": [
      "tensor([[-0.5005, -0.0887],\n",
      "        [-0.2925,  0.0874],\n",
      "        [-0.1334,  0.2658],\n",
      "        [ 0.1972,  0.2348],\n",
      "        [ 0.4234,  0.3911],\n",
      "        [ 0.4941,  0.1736],\n",
      "        [ 0.3694, -0.0021],\n",
      "        [ 0.2887, -0.0116],\n",
      "        [ 0.1977,  0.1675],\n",
      "        [ 0.1513,  0.3253]], grad_fn=<SliceBackward>)\n",
      "tensor([1, 1, 1, 1, 1, 1, 1, 1, 1, 1])\n",
      "{'val_loss': tensor(0.8022, grad_fn=<NllLossBackward>), 'val_acc': tensor(0.4153)}\n",
      "tensor([[0.3985, 0.6015],\n",
      "        [0.4062, 0.5938],\n",
      "        [0.4015, 0.5985],\n",
      "        [0.4906, 0.5094],\n",
      "        [0.5081, 0.4919],\n",
      "        [0.5794, 0.4206],\n",
      "        [0.5918, 0.4082],\n",
      "        [0.5745, 0.4255],\n",
      "        [0.5076, 0.4924],\n",
      "        [0.4566, 0.5434]], grad_fn=<SoftmaxBackward>)\n"
     ]
    }
   ],
   "source": [
    "print(model.linear(inputs)[0:10])\n",
    "print(targets[0:10])\n",
    "for batch in val_dl:\n",
    "    result0 = model.validation_step(batch)\n",
    "    print(result0)\n",
    "    print(F.softmax(model.linear(inputs)[0:10], dim=1))"
   ]
  },
  {
   "cell_type": "code",
   "execution_count": 15,
   "id": "3815a07b",
   "metadata": {},
   "outputs": [],
   "source": [
    "import matplotlib.pyplot as plt\n",
    "%matplotlib inline"
   ]
  },
  {
   "cell_type": "code",
   "execution_count": 35,
   "id": "b046808b",
   "metadata": {},
   "outputs": [],
   "source": [
    "history = [result0] + fit(1000,train_dl,val_dl,model,opt)\n",
    "#history1 = fit(200,train_dl,val_dl,model,opt)"
   ]
  },
  {
   "cell_type": "code",
   "execution_count": 31,
   "id": "697a0562",
   "metadata": {},
   "outputs": [
    {
     "name": "stdout",
     "output_type": "stream",
     "text": [
      "tensor([[ 0.5181, -1.1730],\n",
      "        [ 0.8082, -1.5336],\n",
      "        [ 0.2714, -0.5711],\n",
      "        [ 1.2428, -1.4057],\n",
      "        [ 1.5716, -1.0185]], grad_fn=<SliceBackward>)\n",
      "tensor([1, 1, 1, 1, 1, 1, 1, 1, 1, 1, 1, 1, 1, 0, 1, 1, 1, 1, 1, 1, 1, 1, 0, 0,\n",
      "        1, 1, 1, 0, 1, 1, 0, 1, 1, 1, 1, 1, 1, 1, 1, 1, 1, 1, 1, 1, 1, 1, 0, 1,\n",
      "        0, 1, 1, 1, 1, 1, 1, 1, 1, 1, 0, 1, 1, 0, 0, 0, 0, 0, 0, 0, 0, 0, 0, 0,\n",
      "        0, 0, 0, 1, 1, 1, 0, 0, 1, 1, 0, 1, 0, 0, 0, 0, 1, 0, 0, 0, 1, 0, 0, 0,\n",
      "        0, 0, 0, 0, 0, 0, 1, 0, 1, 0, 1, 1, 0, 0, 0, 0, 0, 0, 1, 0, 0, 1])\n",
      "tensor([1, 1, 1, 1, 1, 1, 1, 1, 1, 1, 1, 1, 1, 1, 1, 1, 1, 1, 1, 1, 1, 1, 1, 1,\n",
      "        1, 1, 1, 1, 1, 1, 1, 1, 1, 1, 1, 1, 1, 1, 1, 1, 1, 1, 1, 1, 1, 1, 1, 1,\n",
      "        1, 1, 1, 1, 1, 1, 1, 1, 1, 1, 0, 0, 0, 0, 0, 0, 0, 0, 0, 0, 0, 0, 0, 0,\n",
      "        0, 0, 0, 0, 0, 0, 0, 0, 0, 0, 0, 0, 0, 0, 0, 0, 0, 0, 0, 0, 0, 0, 0, 0,\n",
      "        0, 0, 0, 0, 0, 0, 0, 0, 0, 0, 0, 0, 0, 0, 0, 0, 0, 0, 0, 0, 0, 0])\n",
      "tensor(0.8051)\n"
     ]
    }
   ],
   "source": [
    "for batch in val_dl:\n",
    "    inputs, targets = batch \n",
    "    out = model.linear(inputs)              # Generate predictions\n",
    "    print(out[95:100])\n",
    "    targets = targets.squeeze(1).long()\n",
    "    _, preds = torch.max(out,dim=1)\n",
    "    print(preds)\n",
    "    print(targets)\n",
    "    acc = torch.sum(preds==targets)/len(preds)\n",
    "    print(acc)"
   ]
  },
  {
   "cell_type": "code",
   "execution_count": 36,
   "id": "1a35325d",
   "metadata": {
    "scrolled": true
   },
   "outputs": [
    {
     "data": {
      "image/png": "[encoded data removed]",
      "text/plain": [
       "<Figure size 432x288 with 1 Axes>"
      ]
     },
     "metadata": {
      "needs_background": "light"
     },
     "output_type": "display_data"
    }
   ],
   "source": [
    "accuracies = [result['val_acc'] for result in history]\n",
    "plt.plot(accuracies, '-x')\n",
    "plt.xlabel('epoch')\n",
    "plt.ylabel('accuracy')\n",
    "plt.title('Accuracy vs. No. of epochs');"
   ]
  },
  {
   "cell_type": "code",
   "execution_count": 61,
   "id": "69503388",
   "metadata": {},
   "outputs": [
    {
     "data": {
      "text/plain": [
       "<matplotlib.collections.PathCollection at 0x204f67ed2b0>"
      ]
     },
     "execution_count": 61,
     "metadata": {},
     "output_type": "execute_result"
    },
    {
     "data": {
      "image/png": "[encoded data removed]",
      "text/plain": [
       "<Figure size 432x288 with 1 Axes>"
      ]
     },
     "metadata": {
      "needs_background": "light"
     },
     "output_type": "display_data"
    }
   ],
   "source": [
    "data = genfromtxt('C:/HKU/Self learning/Machine Learning/ex2/ex2data2.txt', delimiter=',')\n",
    "plt.scatter(data[0:118,0][data[0:118,2]==0],data[0:118,1][data[0:118,2]==0])\n",
    "plt.scatter(data[0:118,0][data[0:118,2]==1],data[0:118,1][data[0:118,2]==1])"
   ]
  }
 ],
 "metadata": {
  "kernelspec": {
   "display_name": "Python 3",
   "language": "python",
   "name": "python3"
  },
  "language_info": {
   "codemirror_mode": {
    "name": "ipython",
    "version": 3
   },
   "file_extension": ".py",
   "mimetype": "text/x-python",
   "name": "python",
   "nbconvert_exporter": "python",
   "pygments_lexer": "ipython3",
   "version": "3.9.4"
  }
 },
 "nbformat": 4,
 "nbformat_minor": 5
}
