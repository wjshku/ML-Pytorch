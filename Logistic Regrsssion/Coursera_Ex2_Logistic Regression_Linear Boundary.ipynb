{
 "cells": [
  {
   "cell_type": "code",
   "execution_count": 76,
   "id": "8ac2150d",
   "metadata": {},
   "outputs": [],
   "source": [
    "import torch\n",
    "from numpy import genfromtxt\n",
    "data = genfromtxt('C:/HKU/Self learning/Machine Learning/ex2/ex2data1.txt', delimiter=',')\n",
    "data = torch.from_numpy(data)\n",
    "data = data.chunk(3,1)\n",
    "norm1 = (data[0]-torch.mean(data[0]))/torch.pow(torch.var(data[0]),0.5)\n",
    "norm2 = (data[1]-torch.mean(data[1]))/torch.pow(torch.var(data[1]),0.5)\n",
    "inputs = torch.cat((norm1,norm2),1).float()\n",
    "targets = data[2].float()"
   ]
  },
  {
   "cell_type": "code",
   "execution_count": 77,
   "id": "beb906db",
   "metadata": {},
   "outputs": [],
   "source": [
    "from torch.utils.data import TensorDataset\n",
    "train_ds = TensorDataset(inputs,targets)\n",
    "\n",
    "from torch.utils.data import DataLoader\n",
    "# Define data loader\n",
    "batch_size = 100\n",
    "train_dl = DataLoader(train_ds, batch_size, shuffle=True)\n",
    "val_dl = DataLoader(train_ds, batch_size)"
   ]
  },
  {
   "cell_type": "code",
   "execution_count": 65,
   "id": "c7e3f16e",
   "metadata": {},
   "outputs": [],
   "source": [
    "import torch.nn as nn\n",
    "import torch.nn.functional as F\n",
    "class Mymodel(nn.Module):\n",
    "    def __init__(self,input_size,num_classes):\n",
    "        super().__init__()\n",
    "        self.linear = nn.Linear(input_size,num_classes)\n",
    "    def train_step(self,batch):\n",
    "        inputs,targets = batch\n",
    "        outputs = self.linear(inputs)\n",
    "        targets = targets.squeeze(1).long()\n",
    "        #sigmoid = 1/(1+torch.exp(-outputs*0.01))\n",
    "        #loss = torch.sum(-torch.mul(targets, torch.log(sigmoid))-torch.mul(1-targets,torch.log(1-sigmoid)))\n",
    "        loss = F.cross_entropy(outputs, targets) # Calculate loss\n",
    "        return loss\n",
    "    def validation_step(self, batch):\n",
    "        inputs, targets = batch \n",
    "        out = self.linear(inputs)              # Generate predictions\n",
    "        targets = targets.squeeze(1).long()\n",
    "        loss = F.cross_entropy(out, targets)   # Calculate loss\n",
    "        #acc = accuracy(out, targets)           # Calculate accuracy\n",
    "        _, preds = torch.max(out,dim=1)\n",
    "        acc = torch.sum(preds==targets)/len(preds)\n",
    "        return {'val_loss': loss, 'val_acc': acc}"
   ]
  },
  {
   "cell_type": "code",
   "execution_count": 90,
   "id": "240457a9",
   "metadata": {},
   "outputs": [],
   "source": [
    "def fit(epoches,train_dl,model,loss_fn,opt):\n",
    "    for epoch in range(epoches):\n",
    "        for x,y in train_dl:\n",
    "            loss = loss_fn(model(x),y)\n",
    "            loss.backward()\n",
    "            opt.step()\n",
    "            opt.zero_grad()\n",
    "        if (epoch+1) % 100 == 0:\n",
    "            print(\"Error:{} Epoch:[{}/{}]\".format(loss,epoch+1,epoches))"
   ]
  },
  {
   "cell_type": "code",
   "execution_count": 78,
   "id": "ab022137",
   "metadata": {},
   "outputs": [
    {
     "data": {
      "text/plain": [
       "[Parameter containing:\n",
       " tensor([[ 0.6699, -0.3426],\n",
       "         [-0.5255, -0.2826]], requires_grad=True),\n",
       " Parameter containing:\n",
       " tensor([-0.1428, -0.6200], requires_grad=True)]"
      ]
     },
     "execution_count": 78,
     "metadata": {},
     "output_type": "execute_result"
    }
   ],
   "source": [
    "model = Mymodel(2,2)\n",
    "list(model.parameters())"
   ]
  },
  {
   "cell_type": "code",
   "execution_count": 85,
   "id": "0a2bb0f7",
   "metadata": {},
   "outputs": [],
   "source": [
    "opt = torch.optim.SGD(model.parameters(), lr = 0.01)"
   ]
  },
  {
   "cell_type": "code",
   "execution_count": 80,
   "id": "976ee1c8",
   "metadata": {},
   "outputs": [
    {
     "name": "stdout",
     "output_type": "stream",
     "text": [
      "tensor(1.2430, grad_fn=<NllLossBackward>)\n"
     ]
    }
   ],
   "source": [
    "for batch in train_dl:\n",
    "    print(model.train_step(batch))\n",
    "    break"
   ]
  },
  {
   "cell_type": "code",
   "execution_count": 89,
   "id": "ee1a0d47",
   "metadata": {},
   "outputs": [
    {
     "name": "stdout",
     "output_type": "stream",
     "text": [
      "tensor([[ 0.1280, -1.5182],\n",
      "        [ 3.2881, -3.5623],\n",
      "        [ 0.4779, -1.6867],\n",
      "        [-2.2650,  0.7859],\n",
      "        [-2.5931,  1.6227],\n",
      "        [ 1.2610, -1.8432],\n",
      "        [-3.1850,  1.3695],\n",
      "        [ 0.0958, -0.1274],\n",
      "        [-3.4147,  2.0163],\n",
      "        [-0.2742,  0.4141]], grad_fn=<SliceBackward>)\n",
      "tensor([[0.],\n",
      "        [0.],\n",
      "        [0.],\n",
      "        [1.],\n",
      "        [1.],\n",
      "        [0.],\n",
      "        [1.],\n",
      "        [1.],\n",
      "        [1.],\n",
      "        [1.]])\n",
      "{'val_loss': tensor(0.2177, grad_fn=<NllLossBackward>), 'val_acc': tensor(0.8900)}\n",
      "tensor([[0.8384, 0.1616],\n",
      "        [0.9989, 0.0011],\n",
      "        [0.8970, 0.1030],\n",
      "        [0.0452, 0.9548],\n",
      "        [0.0145, 0.9855],\n",
      "        [0.9571, 0.0429],\n",
      "        [0.0104, 0.9896],\n",
      "        [0.5556, 0.4444],\n",
      "        [0.0044, 0.9956],\n",
      "        [0.3344, 0.6656]], grad_fn=<SoftmaxBackward>)\n"
     ]
    }
   ],
   "source": [
    "print(model.linear(inputs)[0:10])\n",
    "print(targets[0:10])\n",
    "for batch in val_dl:\n",
    "    result0 = model.validation_step(batch)\n",
    "    print(result0)\n",
    "    print(F.softmax(model.linear(inputs)[0:10], dim=1))"
   ]
  },
  {
   "cell_type": "code",
   "execution_count": 82,
   "id": "35d6994b",
   "metadata": {},
   "outputs": [],
   "source": [
    "def fit(epochs,train_dl,val_dl,model,opt):\n",
    "    history = []\n",
    "    for epoch in range(epochs):\n",
    "        for batch in train_dl:\n",
    "            loss = model.train_step(batch)     \n",
    "            loss.backward()\n",
    "            opt.step()\n",
    "            opt.zero_grad()\n",
    "            break\n",
    "        if (epoch+1) % 10 == 0:\n",
    "            for batch in val_dl:\n",
    "                result = model.validation_step(batch)\n",
    "                history.append(result)\n",
    "    return history"
   ]
  },
  {
   "cell_type": "code",
   "execution_count": 83,
   "id": "e7bda93d",
   "metadata": {},
   "outputs": [
    {
     "data": {
      "text/plain": [
       "[{'val_loss': tensor(1.2430, grad_fn=<NllLossBackward>),\n",
       "  'val_acc': tensor(0.2000)},\n",
       " {'val_loss': tensor(0.7197, grad_fn=<NllLossBackward>),\n",
       "  'val_acc': tensor(0.5500)},\n",
       " {'val_loss': tensor(0.5031, grad_fn=<NllLossBackward>),\n",
       "  'val_acc': tensor(0.8200)},\n",
       " {'val_loss': tensor(0.4099, grad_fn=<NllLossBackward>),\n",
       "  'val_acc': tensor(0.8700)},\n",
       " {'val_loss': tensor(0.3610, grad_fn=<NllLossBackward>),\n",
       "  'val_acc': tensor(0.8800)},\n",
       " {'val_loss': tensor(0.3311, grad_fn=<NllLossBackward>),\n",
       "  'val_acc': tensor(0.8900)},\n",
       " {'val_loss': tensor(0.3108, grad_fn=<NllLossBackward>),\n",
       "  'val_acc': tensor(0.8900)},\n",
       " {'val_loss': tensor(0.2959, grad_fn=<NllLossBackward>),\n",
       "  'val_acc': tensor(0.9000)},\n",
       " {'val_loss': tensor(0.2846, grad_fn=<NllLossBackward>),\n",
       "  'val_acc': tensor(0.9000)},\n",
       " {'val_loss': tensor(0.2756, grad_fn=<NllLossBackward>),\n",
       "  'val_acc': tensor(0.9000)},\n",
       " {'val_loss': tensor(0.2682, grad_fn=<NllLossBackward>),\n",
       "  'val_acc': tensor(0.9000)}]"
      ]
     },
     "execution_count": 83,
     "metadata": {},
     "output_type": "execute_result"
    }
   ],
   "source": [
    "history = [result0] + fit(100,train_dl,val_dl,model,opt)\n",
    "history"
   ]
  },
  {
   "cell_type": "code",
   "execution_count": 86,
   "id": "f5075b74",
   "metadata": {},
   "outputs": [
    {
     "data": {
      "text/plain": [
       "[{'val_loss': tensor(0.2206, grad_fn=<NllLossBackward>),\n",
       "  'val_acc': tensor(0.8900)},\n",
       " {'val_loss': tensor(0.2205, grad_fn=<NllLossBackward>),\n",
       "  'val_acc': tensor(0.8900)},\n",
       " {'val_loss': tensor(0.2204, grad_fn=<NllLossBackward>),\n",
       "  'val_acc': tensor(0.8900)},\n",
       " {'val_loss': tensor(0.2203, grad_fn=<NllLossBackward>),\n",
       "  'val_acc': tensor(0.8900)},\n",
       " {'val_loss': tensor(0.2202, grad_fn=<NllLossBackward>),\n",
       "  'val_acc': tensor(0.8900)},\n",
       " {'val_loss': tensor(0.2201, grad_fn=<NllLossBackward>),\n",
       "  'val_acc': tensor(0.8900)},\n",
       " {'val_loss': tensor(0.2201, grad_fn=<NllLossBackward>),\n",
       "  'val_acc': tensor(0.8900)},\n",
       " {'val_loss': tensor(0.2200, grad_fn=<NllLossBackward>),\n",
       "  'val_acc': tensor(0.8900)},\n",
       " {'val_loss': tensor(0.2199, grad_fn=<NllLossBackward>),\n",
       "  'val_acc': tensor(0.8900)},\n",
       " {'val_loss': tensor(0.2198, grad_fn=<NllLossBackward>),\n",
       "  'val_acc': tensor(0.8900)},\n",
       " {'val_loss': tensor(0.2198, grad_fn=<NllLossBackward>),\n",
       "  'val_acc': tensor(0.8900)},\n",
       " {'val_loss': tensor(0.2197, grad_fn=<NllLossBackward>),\n",
       "  'val_acc': tensor(0.8900)},\n",
       " {'val_loss': tensor(0.2196, grad_fn=<NllLossBackward>),\n",
       "  'val_acc': tensor(0.8900)},\n",
       " {'val_loss': tensor(0.2195, grad_fn=<NllLossBackward>),\n",
       "  'val_acc': tensor(0.8900)},\n",
       " {'val_loss': tensor(0.2194, grad_fn=<NllLossBackward>),\n",
       "  'val_acc': tensor(0.8900)},\n",
       " {'val_loss': tensor(0.2194, grad_fn=<NllLossBackward>),\n",
       "  'val_acc': tensor(0.8900)},\n",
       " {'val_loss': tensor(0.2193, grad_fn=<NllLossBackward>),\n",
       "  'val_acc': tensor(0.8900)},\n",
       " {'val_loss': tensor(0.2192, grad_fn=<NllLossBackward>),\n",
       "  'val_acc': tensor(0.8900)},\n",
       " {'val_loss': tensor(0.2191, grad_fn=<NllLossBackward>),\n",
       "  'val_acc': tensor(0.8900)},\n",
       " {'val_loss': tensor(0.2191, grad_fn=<NllLossBackward>),\n",
       "  'val_acc': tensor(0.8900)}]"
      ]
     },
     "execution_count": 86,
     "metadata": {},
     "output_type": "execute_result"
    }
   ],
   "source": [
    "history1 = fit(200,train_dl,val_dl,model,opt)\n",
    "history1"
   ]
  },
  {
   "cell_type": "code",
   "execution_count": 87,
   "id": "920bfd1f",
   "metadata": {},
   "outputs": [
    {
     "data": {
      "text/plain": [
       "[{'val_loss': tensor(0.2190, grad_fn=<NllLossBackward>),\n",
       "  'val_acc': tensor(0.8900)},\n",
       " {'val_loss': tensor(0.2189, grad_fn=<NllLossBackward>),\n",
       "  'val_acc': tensor(0.8900)},\n",
       " {'val_loss': tensor(0.2189, grad_fn=<NllLossBackward>),\n",
       "  'val_acc': tensor(0.8900)},\n",
       " {'val_loss': tensor(0.2188, grad_fn=<NllLossBackward>),\n",
       "  'val_acc': tensor(0.8900)},\n",
       " {'val_loss': tensor(0.2187, grad_fn=<NllLossBackward>),\n",
       "  'val_acc': tensor(0.8900)},\n",
       " {'val_loss': tensor(0.2186, grad_fn=<NllLossBackward>),\n",
       "  'val_acc': tensor(0.8900)},\n",
       " {'val_loss': tensor(0.2186, grad_fn=<NllLossBackward>),\n",
       "  'val_acc': tensor(0.8900)},\n",
       " {'val_loss': tensor(0.2185, grad_fn=<NllLossBackward>),\n",
       "  'val_acc': tensor(0.8900)},\n",
       " {'val_loss': tensor(0.2184, grad_fn=<NllLossBackward>),\n",
       "  'val_acc': tensor(0.8900)},\n",
       " {'val_loss': tensor(0.2184, grad_fn=<NllLossBackward>),\n",
       "  'val_acc': tensor(0.8900)},\n",
       " {'val_loss': tensor(0.2183, grad_fn=<NllLossBackward>),\n",
       "  'val_acc': tensor(0.8900)},\n",
       " {'val_loss': tensor(0.2182, grad_fn=<NllLossBackward>),\n",
       "  'val_acc': tensor(0.8900)},\n",
       " {'val_loss': tensor(0.2182, grad_fn=<NllLossBackward>),\n",
       "  'val_acc': tensor(0.8900)},\n",
       " {'val_loss': tensor(0.2181, grad_fn=<NllLossBackward>),\n",
       "  'val_acc': tensor(0.8900)},\n",
       " {'val_loss': tensor(0.2180, grad_fn=<NllLossBackward>),\n",
       "  'val_acc': tensor(0.8900)},\n",
       " {'val_loss': tensor(0.2180, grad_fn=<NllLossBackward>),\n",
       "  'val_acc': tensor(0.8900)},\n",
       " {'val_loss': tensor(0.2179, grad_fn=<NllLossBackward>),\n",
       "  'val_acc': tensor(0.8900)},\n",
       " {'val_loss': tensor(0.2178, grad_fn=<NllLossBackward>),\n",
       "  'val_acc': tensor(0.8900)},\n",
       " {'val_loss': tensor(0.2178, grad_fn=<NllLossBackward>),\n",
       "  'val_acc': tensor(0.8900)},\n",
       " {'val_loss': tensor(0.2177, grad_fn=<NllLossBackward>),\n",
       "  'val_acc': tensor(0.8900)}]"
      ]
     },
     "execution_count": 87,
     "metadata": {},
     "output_type": "execute_result"
    }
   ],
   "source": [
    "history2 = fit(200,train_dl,val_dl,model,opt)\n",
    "history2"
   ]
  },
  {
   "cell_type": "code",
   "execution_count": 12,
   "id": "14cc3d11",
   "metadata": {},
   "outputs": [
    {
     "name": "stdout",
     "output_type": "stream",
     "text": [
      "tensor([[1., 1.],\n",
      "        [1., 1.]])\n",
      "Predict: tensor([[5.6913e-01, 1.0000e+00],\n",
      "        [7.2447e-17, 1.0000e+00]], grad_fn=<MulBackward0>), Real: tensor([0.])\n"
     ]
    }
   ],
   "source": [
    "number = torch.randint(0,100,(1,)).item()\n",
    "number = 2\n",
    "output = model.linear(inputs[0:number])\n",
    "prob = 1/(1+torch.exp(-output))\n",
    "print((prob > 0).long() - targets[0:number])\n",
    "print(\"Predict: {}, Real: {}\".format(prob,targets[number]))"
   ]
  },
  {
   "cell_type": "code",
   "execution_count": 127,
   "id": "9ba03588",
   "metadata": {},
   "outputs": [],
   "source": [
    "def accuracy(outputs,tagets):\n",
    "    _, preds = torch.max(outputs, dim=1)\n",
    "    acc = torch.sum(preds==targets)/len(preds)\n",
    "    return acc"
   ]
  },
  {
   "cell_type": "code",
   "execution_count": 34,
   "id": "8c30943d",
   "metadata": {},
   "outputs": [
    {
     "name": "stdout",
     "output_type": "stream",
     "text": [
      "tensor([[ -4.6764,  -3.7847],\n",
      "        [-27.0669, -26.5874],\n",
      "        [ -9.9690,  -8.8997],\n",
      "        [-16.0696, -15.4648],\n",
      "        [-22.3924, -21.5698]], grad_fn=<SliceBackward>)\n",
      "tensor([1, 1, 1, 1, 1, 1, 1, 1, 1, 1, 1, 1, 1, 1, 1, 1, 1, 1, 1, 1, 1, 1, 1, 1,\n",
      "        1, 1, 1, 1, 1, 1, 1, 1, 1, 1, 1, 1, 1, 1, 1, 1, 1, 1, 1, 1, 1, 1, 1, 1,\n",
      "        1, 1, 1, 1, 1, 1, 1, 1, 1, 1, 1, 1, 1, 1, 1, 1, 1, 1, 1, 1, 1, 1, 1, 1,\n",
      "        1, 1, 1, 1, 1, 1, 1, 1, 1, 1, 1, 1, 1, 1, 1, 1, 1, 1, 1, 1, 1, 1, 1, 1,\n",
      "        1, 1, 1, 1])\n",
      "tensor([0, 0, 0, 1, 1, 0, 1, 1, 1, 1, 0, 0, 1, 1, 0, 1, 1, 0, 1, 1, 0, 1, 0, 0,\n",
      "        1, 1, 1, 0, 0, 0, 1, 1, 0, 1, 0, 0, 0, 1, 0, 0, 1, 0, 1, 0, 0, 0, 1, 1,\n",
      "        1, 1, 1, 1, 1, 0, 0, 0, 1, 0, 1, 1, 1, 0, 0, 0, 0, 0, 1, 0, 1, 1, 0, 1,\n",
      "        1, 1, 1, 1, 1, 1, 0, 0, 1, 1, 1, 1, 1, 1, 0, 1, 1, 0, 1, 1, 0, 1, 1, 1,\n",
      "        1, 1, 1, 1])\n",
      "tensor(0.6000)\n"
     ]
    }
   ],
   "source": [
    "for batch in val_dl:\n",
    "    inputs, targets = batch \n",
    "    out = model.linear(inputs)              # Generate predictions\n",
    "    print(out[95:])\n",
    "    targets = targets.squeeze(1).long()\n",
    "    _, preds = torch.max(out,dim=1)\n",
    "    print(preds)\n",
    "    print(targets)\n",
    "    acc = torch.sum(preds==targets)/len(preds)\n",
    "    print(acc)"
   ]
  },
  {
   "cell_type": "code",
   "execution_count": 15,
   "id": "128a1514",
   "metadata": {},
   "outputs": [],
   "source": [
    "torch.save(model.state_dict(), 'coursera-ex2-simplelogistic.pth')"
   ]
  },
  {
   "cell_type": "code",
   "execution_count": 16,
   "id": "dab441ff",
   "metadata": {},
   "outputs": [],
   "source": [
    "import matplotlib.pyplot as plt\n",
    "%matplotlib inline"
   ]
  },
  {
   "cell_type": "code",
   "execution_count": 88,
   "id": "583426ac",
   "metadata": {
    "scrolled": true
   },
   "outputs": [
    {
     "data": {
      "image/png": "[encoded data removed]",
      "text/plain": [
       "<Figure size 432x288 with 1 Axes>"
      ]
     },
     "metadata": {
      "needs_background": "light"
     },
     "output_type": "display_data"
    }
   ],
   "source": [
    "history = history + history1 + history2\n",
    "accuracies = [result['val_acc'] for result in history]\n",
    "plt.plot(accuracies, '-x')\n",
    "plt.xlabel('epoch')\n",
    "plt.ylabel('accuracy')\n",
    "plt.title('Accuracy vs. No. of epochs');"
   ]
  },
  {
   "cell_type": "code",
   "execution_count": 153,
   "id": "56765369",
   "metadata": {},
   "outputs": [],
   "source": [
    "w = torch.zeros(2,2,requires_grad=True)\n",
    "b = torch.tensor([[0.,1.]],requires_grad=True)"
   ]
  },
  {
   "cell_type": "code",
   "execution_count": 106,
   "id": "18520ac6",
   "metadata": {},
   "outputs": [],
   "source": [
    "def smallmodel(inputs,w,b):\n",
    "    return inputs @ w.t() + b"
   ]
  },
  {
   "cell_type": "code",
   "execution_count": 157,
   "id": "36090464",
   "metadata": {},
   "outputs": [
    {
     "name": "stdout",
     "output_type": "stream",
     "text": [
      "Epoch [10/100], Loss: 0.3964, Accuracy: 0.9000\n",
      "Epoch [20/100], Loss: 0.3904, Accuracy: 0.9200\n",
      "Epoch [30/100], Loss: 0.3849, Accuracy: 0.9200\n",
      "Epoch [40/100], Loss: 0.3797, Accuracy: 0.9200\n",
      "Epoch [50/100], Loss: 0.3748, Accuracy: 0.9100\n",
      "Epoch [60/100], Loss: 0.3701, Accuracy: 0.9200\n",
      "Epoch [70/100], Loss: 0.3657, Accuracy: 0.9200\n",
      "Epoch [80/100], Loss: 0.3616, Accuracy: 0.9200\n",
      "Epoch [90/100], Loss: 0.3577, Accuracy: 0.9200\n",
      "Epoch [100/100], Loss: 0.3539, Accuracy: 0.9200\n"
     ]
    }
   ],
   "source": [
    "num_epochs = 100\n",
    "lamb = 0.01\n",
    "for epoch in range(num_epochs):\n",
    "    for inputs,targets in train_dl:\n",
    "        outputs = smallmodel(inputs,w,b)\n",
    "        targets = targets.squeeze(1).long()\n",
    "        loss = F.cross_entropy(outputs, targets)\n",
    "        loss.backward()\n",
    "        with torch.no_grad():\n",
    "            w -= lamb * w.grad #Bear in mind that we should not expand this thing, otherwise we get NoneType error\n",
    "            b -= lamb * b.grad\n",
    "            w.grad.zero_()\n",
    "            b.grad.zero_()\n",
    "    if (epoch+1) % 10 == 0:\n",
    "            print('Epoch [{}/{}], Loss: {:.4f}, Accuracy: {:.4f}'.format(epoch+1, num_epochs, loss.item(),accuracy(outputs,targets)))"
   ]
  },
  {
   "cell_type": "code",
   "execution_count": 158,
   "id": "987eb666",
   "metadata": {},
   "outputs": [
    {
     "name": "stdout",
     "output_type": "stream",
     "text": [
      "tensor([0, 0, 1, 0, 1, 1, 1, 1, 0, 1, 0, 1, 0, 0, 1, 1, 0, 1, 1, 1, 0, 1, 0, 1,\n",
      "        1, 1, 1, 0, 0, 1, 0, 1, 1, 1, 0, 1, 1, 1, 0, 1, 0, 0, 0, 0, 0, 1, 1, 1,\n",
      "        1, 1, 1, 1, 1, 1, 1, 1, 1, 1, 1, 0, 1, 1, 1, 1, 1, 1, 1, 1, 1, 1, 0, 1,\n",
      "        1, 0, 0, 1, 0, 0, 0, 0, 1, 1, 0, 1, 1, 1, 1, 0, 0, 1, 1, 1, 1, 0, 1, 1,\n",
      "        1, 0, 0, 1])\n",
      "tensor([0, 0, 1, 0, 1, 1, 1, 1, 1, 1, 0, 1, 0, 0, 1, 1, 0, 1, 1, 0, 0, 1, 0, 0,\n",
      "        1, 1, 1, 0, 0, 1, 0, 1, 1, 1, 0, 0, 1, 1, 0, 1, 0, 0, 0, 0, 0, 1, 1, 1,\n",
      "        1, 0, 1, 1, 1, 1, 1, 1, 1, 1, 1, 0, 1, 1, 0, 1, 1, 0, 0, 1, 1, 1, 0, 1,\n",
      "        1, 0, 0, 1, 0, 0, 0, 0, 1, 1, 0, 1, 1, 1, 1, 0, 0, 1, 1, 1, 1, 0, 1, 1,\n",
      "        1, 0, 0, 1])\n"
     ]
    }
   ],
   "source": [
    "_,preds = torch.max(smallmodel(inputs,w,b),dim = 1)\n",
    "print(preds)\n",
    "print(targets)"
   ]
  }
 ],
 "metadata": {
  "kernelspec": {
   "display_name": "Python 3",
   "language": "python",
   "name": "python3"
  },
  "language_info": {
   "codemirror_mode": {
    "name": "ipython",
    "version": 3
   },
   "file_extension": ".py",
   "mimetype": "text/x-python",
   "name": "python",
   "nbconvert_exporter": "python",
   "pygments_lexer": "ipython3",
   "version": "3.9.4"
  }
 },
 "nbformat": 4,
 "nbformat_minor": 5
}
